{
 "cells": [
  {
   "cell_type": "markdown",
   "metadata": {},
   "source": [
    "# MolSSI Workshop - Python Data and Scripting\n",
    "\n"
   ]
  },
  {
   "cell_type": "markdown",
   "metadata": {},
   "source": [
    "## Introduction\n",
    "\n",
    "This lesson covers Python basics like variable creation and assignment using the Jupyter notebook."
   ]
  },
  {
   "cell_type": "code",
   "execution_count": null,
   "metadata": {},
   "outputs": [],
   "source": [
    "# A Python interpreter can behave like a calculator\n",
    "3 + 7"
   ]
  },
  {
   "cell_type": "code",
   "execution_count": null,
   "metadata": {},
   "outputs": [],
   "source": [
    "# Assigning variables & doing calculations\n",
    "deltaH = -541.5   #kJ/mole\n",
    "deltaS =  10.4     #kJ/(mole K)\n",
    "temp = 298      #Kelvin\n",
    "deltaG = deltaH - temp*deltaS"
   ]
  },
  {
   "cell_type": "code",
   "execution_count": null,
   "metadata": {},
   "outputs": [],
   "source": [
    "print(deltaG)"
   ]
  },
  {
   "cell_type": "code",
   "execution_count": null,
   "metadata": {},
   "outputs": [],
   "source": [
    "# variables are immutable\n",
    "print(deltaG)\n",
    "deltaG*1000\n",
    "print(deltaG)"
   ]
  },
  {
   "cell_type": "code",
   "execution_count": null,
   "metadata": {},
   "outputs": [],
   "source": [
    "# If we want to change the value of a variable, we have to overwrite it.\n",
    "print(deltaG)\n",
    "deltaG = deltaG*1000\n",
    "print(deltaG)"
   ]
  },
  {
   "cell_type": "code",
   "execution_count": null,
   "metadata": {},
   "outputs": [],
   "source": [
    "# It is usually a better idea to make a new variable\n",
    "print(deltaG)\n",
    "deltaG_joules = deltaG*1000\n",
    "print(deltaG)\n",
    "print(deltaG_joules)"
   ]
  },
  {
   "cell_type": "code",
   "execution_count": null,
   "metadata": {},
   "outputs": [],
   "source": [
    "# You can assign multiple variables at once\n",
    "deltaH, deltaS, temp = -541.5, 10.4, 298\n",
    "deltaG = deltaH - temp*deltaS\n",
    "print(deltaG)"
   ]
  },
  {
   "cell_type": "code",
   "execution_count": null,
   "metadata": {},
   "outputs": [],
   "source": [
    "# Data types\n",
    "type(deltaG)"
   ]
  },
  {
   "cell_type": "code",
   "execution_count": null,
   "metadata": {},
   "outputs": [],
   "source": [
    "# You can change the data type of a variable.\n",
    "deltaG_string = str(deltaG)\n",
    "type(deltaG_string)"
   ]
  },
  {
   "cell_type": "code",
   "execution_count": null,
   "metadata": {},
   "outputs": [],
   "source": [
    "print(deltaG_string)"
   ]
  },
  {
   "cell_type": "code",
   "execution_count": null,
   "metadata": {},
   "outputs": [],
   "source": [
    "# Lists can be used to group several values or variables together.\n",
    "\n",
    "# This is a list\n",
    "energy_kcal = [-13.4, -2.7, 5.4, 42.1]\n",
    "# I can determine its length\n",
    "energy_length = len(energy_kcal)\n",
    "\n",
    "# print the list length\n",
    "print('The length of this list is', energy_length)"
   ]
  },
  {
   "cell_type": "code",
   "execution_count": null,
   "metadata": {},
   "outputs": [],
   "source": [
    "# We can access specific elements of a list using integers\n",
    "# Counting starts at 0\n",
    "\n",
    "# Print the first element of the list\n",
    "print(energy_kcal[0])"
   ]
  },
  {
   "cell_type": "code",
   "execution_count": null,
   "metadata": {},
   "outputs": [],
   "source": [
    "# You can use an element of a list as a variable in a calculation\n",
    "\n",
    "# Calculate the second list element in kilojoules.\n",
    "energy_kilojoules = energy_kcal[1]*4.184\n",
    "print(energy_kilojoules)\n",
    "\n",
    "# Note that this does not change the list\n",
    "print(energy_kcal)"
   ]
  },
  {
   "cell_type": "code",
   "execution_count": null,
   "metadata": {},
   "outputs": [],
   "source": [
    "# Slicing a list\n",
    "\n",
    "# Make a new list from elements 0 to 2. Note that it starts with the first\n",
    "# number, but does not include the last number\n",
    "short_list = energy_kcal[0:2]"
   ]
  },
  {
   "cell_type": "code",
   "execution_count": null,
   "metadata": {},
   "outputs": [],
   "source": [
    "print(short_list)"
   ]
  },
  {
   "cell_type": "code",
   "execution_count": null,
   "metadata": {},
   "outputs": [],
   "source": [
    "# Check your understanding exercise\n",
    "slice1 = energy_kcal[1:]\n",
    "slice2 = energy_kcal[:3]\n",
    "print('slice1 is', slice1)\n",
    "print('slice2 is', slice2)"
   ]
  },
  {
   "cell_type": "code",
   "execution_count": null,
   "metadata": {},
   "outputs": [],
   "source": [
    "for number in energy_kcal:\n",
    "    kJ = number*4.184\n",
    "    print(kJ)"
   ]
  },
  {
   "cell_type": "code",
   "execution_count": null,
   "metadata": {},
   "outputs": [],
   "source": [
    "# We can record these values in a new list using `append`. \n",
    "\n",
    "# We can only append to existing lists, so we make an empty one.\n",
    "energy_kJ = []\n",
    "\n",
    "for number in energy_kcal:\n",
    "    kJ = number*4.184\n",
    "    energy_kJ.append(kJ)\n",
    "\n",
    "print(energy_kJ)"
   ]
  },
  {
   "cell_type": "code",
   "execution_count": null,
   "metadata": {},
   "outputs": [],
   "source": [
    "# We can use `if` statements to make choices in our code.\n",
    "\n",
    "# What if we wanted to find all the negative numbers?\n",
    "negative_energy_kJ = []\n",
    "\n",
    "for number in energy_kJ:\n",
    "    if number<0:\n",
    "        negative_energy_kJ.append(number)\n",
    "\n",
    "print(negative_energy_kJ)"
   ]
  },
  {
   "cell_type": "code",
   "execution_count": null,
   "metadata": {},
   "outputs": [],
   "source": [
    "# You can also use `and`, `or` to check more than one condition.\n",
    "negative_numbers = []\n",
    "for number in energy_kJ:\n",
    "    if number<0 or number==0:\n",
    "        negative_numbers.append(number)\n",
    "\n",
    "print(negative_numbers)"
   ]
  },
  {
   "cell_type": "markdown",
   "metadata": {},
   "source": [
    "## File Parsing\n",
    "\n",
    "This lesson covers file parsing"
   ]
  },
  {
   "cell_type": "code",
   "execution_count": null,
   "metadata": {},
   "outputs": [],
   "source": [
    "ls data"
   ]
  },
  {
   "cell_type": "code",
   "execution_count": null,
   "metadata": {},
   "outputs": [],
   "source": [
    "pwd"
   ]
  },
  {
   "cell_type": "code",
   "execution_count": null,
   "metadata": {},
   "outputs": [],
   "source": [
    "import os\n",
    "\n",
    "ethanol_file = os.path.join('data', 'outfiles', 'ethanol.out')\n",
    "print(ethanol_file)"
   ]
  },
  {
   "cell_type": "code",
   "execution_count": null,
   "metadata": {},
   "outputs": [],
   "source": [
    "# Open a file for reading\n",
    "outfile = open(ethanol_file, 'r')\n",
    "\n",
    "# Read the file\n",
    "data = outfile.readlines()\n",
    "\n",
    "# Close the file\n",
    "outfile.close()"
   ]
  },
  {
   "cell_type": "code",
   "execution_count": null,
   "metadata": {},
   "outputs": [],
   "source": [
    "# The readlines function puts the file into a list where each element is a line\n",
    "print(type(data))"
   ]
  },
  {
   "cell_type": "code",
   "execution_count": null,
   "metadata": {},
   "outputs": [],
   "source": [
    "for line in data:\n",
    "    print(line)"
   ]
  },
  {
   "cell_type": "code",
   "execution_count": null,
   "metadata": {},
   "outputs": [],
   "source": [
    "for line in data:\n",
    "    if 'Final Energy' in line:\n",
    "        energy_line = line\n",
    "        print(energy_line)"
   ]
  },
  {
   "cell_type": "code",
   "execution_count": null,
   "metadata": {},
   "outputs": [],
   "source": [
    "# We can use the `split` function to split a line based on a delimiter.\n",
    "\n",
    "# It will split on whitespace by default.\n",
    "energy_line.split()"
   ]
  },
  {
   "cell_type": "code",
   "execution_count": null,
   "metadata": {},
   "outputs": [],
   "source": [
    "# We can specify other delimiters, like a colon.\n",
    "energy_line.split(':')"
   ]
  },
  {
   "cell_type": "code",
   "execution_count": null,
   "metadata": {},
   "outputs": [],
   "source": [
    "words = energy_line.split()\n",
    "print(words)"
   ]
  },
  {
   "cell_type": "code",
   "execution_count": null,
   "metadata": {},
   "outputs": [],
   "source": [
    "energy = words[3]\n",
    "print(energy)"
   ]
  },
  {
   "cell_type": "code",
   "execution_count": null,
   "metadata": {},
   "outputs": [],
   "source": [
    "# However, this  is a string.\n",
    "energy + 50"
   ]
  },
  {
   "cell_type": "code",
   "execution_count": null,
   "metadata": {},
   "outputs": [],
   "source": [
    "# We can change it to a number by casting it to float\n",
    "energy = float(energy)"
   ]
  },
  {
   "cell_type": "code",
   "execution_count": null,
   "metadata": {},
   "outputs": [],
   "source": [
    "# We can use enumerate with a for loop to get a counter.\n",
    "for linenum, line in enumerate(words):\n",
    "    print(linenum, line)"
   ]
  },
  {
   "cell_type": "code",
   "execution_count": null,
   "metadata": {},
   "outputs": [],
   "source": [
    "# We can use this to find the line number of the Center of mass in the file.\n",
    "for linenum, line in enumerate(data):\n",
    "    if 'Center' in line:\n",
    "        print(linenum)\n",
    "        print(line)"
   ]
  },
  {
   "cell_type": "markdown",
   "metadata": {},
   "source": [
    "# Processing multiple files and writing files\n",
    "\n",
    "This lesson covers processing multiple files and writing information to files"
   ]
  },
  {
   "cell_type": "code",
   "execution_count": null,
   "metadata": {},
   "outputs": [],
   "source": [
    "import os\n",
    "\n",
    "file_location = os.path.join('data', 'outfiles', '*.out')\n",
    "print(file_location)"
   ]
  },
  {
   "cell_type": "code",
   "execution_count": null,
   "metadata": {},
   "outputs": [],
   "source": [
    "import glob\n",
    "filenames = glob.glob(file_location)\n",
    "print(filenames)"
   ]
  },
  {
   "cell_type": "code",
   "execution_count": null,
   "metadata": {},
   "outputs": [],
   "source": [
    "# Use a `for` loop to find the energy in every file.\n",
    "for f in filenames:\n",
    "    # Open the file and read the information\n",
    "    outfile = open(f, 'r')\n",
    "    data = outfile.readlines()\n",
    "    outfile.close()\n",
    "    \n",
    "    # Loop through the lines in the line.\n",
    "    for line in data:\n",
    "        if 'Final Energy' in line:\n",
    "            energy_line = line\n",
    "            words = energy_line.split()\n",
    "            energy = float(words[3])\n",
    "            print(energy)\n",
    "        "
   ]
  },
  {
   "cell_type": "code",
   "execution_count": null,
   "metadata": {},
   "outputs": [],
   "source": [
    "# To get the molecule name, we will use the `os.path.basename`\n",
    "first_file = filenames[0]\n",
    "print(first_file)\n",
    "\n",
    "file_name = os.path.basename(first_file)\n",
    "print(file_name)"
   ]
  },
  {
   "cell_type": "code",
   "execution_count": null,
   "metadata": {},
   "outputs": [],
   "source": [
    "for f in filenames:\n",
    "    \n",
    "    # Get the molecule name\n",
    "    file_name = os.path.basename(f)\n",
    "    split_filename = file_name.split('.')\n",
    "    molecule_name = split_filename[0]\n",
    "    \n",
    "    # Open the file and read the information\n",
    "    outfile = open(f, 'r')\n",
    "    data = outfile.readlines()\n",
    "    outfile.close()\n",
    "    \n",
    "    # Loop through the lines in the line.\n",
    "    for line in data:\n",
    "        if 'Final Energy' in line:\n",
    "            energy_line = line\n",
    "            words = energy_line.split()\n",
    "            energy = float(words[3])\n",
    "            print(molecule_name, energy)"
   ]
  },
  {
   "cell_type": "code",
   "execution_count": null,
   "metadata": {},
   "outputs": [],
   "source": [
    "datafile = open('energies.txt','w+')  #This opens the file for writing\n",
    "\n",
    "for f in filenames:\n",
    "    # Get the molecule name\n",
    "    file_name = os.path.basename(f)\n",
    "    split_filename = file_name.split('.')\n",
    "    molecule_name = split_filename[0]\n",
    "\n",
    "    # Read the data\n",
    "    outfile = open(f,'r')\n",
    "    data = outfile.readlines()\n",
    "    outfile.close()\n",
    "\n",
    "    # Loop through the data\n",
    "    for line in data:\n",
    "        if 'Final Energy' in line:\n",
    "            energy_line = line\n",
    "            words = energy_line.split()\n",
    "            energy = float(words[3])\n",
    "            datafile.write(F'{molecule_name} \\t {energy} \\n')\n",
    "\n",
    "datafile.close()"
   ]
  },
  {
   "cell_type": "markdown",
   "metadata": {},
   "source": [
    "## Tabular Data\n",
    "\n",
    "This lesson covers reading tabular data."
   ]
  },
  {
   "cell_type": "code",
   "execution_count": null,
   "metadata": {},
   "outputs": [],
   "source": [
    "import numpy"
   ]
  },
  {
   "cell_type": "code",
   "execution_count": null,
   "metadata": {},
   "outputs": [],
   "source": [
    "help(numpy.genfromtxt)"
   ]
  },
  {
   "cell_type": "code",
   "execution_count": null,
   "metadata": {},
   "outputs": [],
   "source": [
    "import os\n",
    "\n",
    "distance_file = os.path.join('data', 'distance_data_headers.csv')\n",
    "print(distance_file)"
   ]
  },
  {
   "cell_type": "code",
   "execution_count": null,
   "metadata": {},
   "outputs": [],
   "source": [
    "distances = numpy.genfromtxt(fname=distance_file, delimiter=',', dtype='unicode')"
   ]
  },
  {
   "cell_type": "code",
   "execution_count": null,
   "metadata": {},
   "outputs": [],
   "source": [
    "print(distances)"
   ]
  },
  {
   "cell_type": "code",
   "execution_count": null,
   "metadata": {},
   "outputs": [],
   "source": [
    "# manipulating tabular data\n",
    "headers = distances[0]"
   ]
  },
  {
   "cell_type": "code",
   "execution_count": null,
   "metadata": {},
   "outputs": [],
   "source": [
    "data = distances[1:]\n",
    "print(data)"
   ]
  },
  {
   "cell_type": "code",
   "execution_count": null,
   "metadata": {},
   "outputs": [],
   "source": [
    "data = data.astype(numpy.float)\n",
    "print(data)"
   ]
  },
  {
   "cell_type": "code",
   "execution_count": null,
   "metadata": {},
   "outputs": [],
   "source": [
    "# You can grab specific rows and columns.\n",
    "\n",
    "# rows come first, then columns\n",
    "\n",
    "small_data = data[0:10, 0:3]\n",
    "print(small_data)"
   ]
  },
  {
   "cell_type": "code",
   "execution_count": null,
   "metadata": {},
   "outputs": [],
   "source": [
    "# we can use numpy.mean to calculate averages\n",
    "thr4_atp = data[:,1]  # Every row, just the THR4_ATP column\n",
    "avg_thr4_atp = numpy.mean(thr4_atp)\n",
    "print(avg_thr4_atp)"
   ]
  },
  {
   "cell_type": "code",
   "execution_count": null,
   "metadata": {},
   "outputs": [],
   "source": [
    "num_columns = len(headers)\n",
    "print(num_columns)"
   ]
  },
  {
   "cell_type": "code",
   "execution_count": null,
   "metadata": {},
   "outputs": [],
   "source": [
    "# Get the average of each column\n",
    "for i in range(1, num_columns):\n",
    "    column = data[:, i]\n",
    "    avg_col = numpy.mean(column)\n",
    "    print(F'{headers[i]} : {avg_col}')"
   ]
  },
  {
   "cell_type": "code",
   "execution_count": null,
   "metadata": {},
   "outputs": [],
   "source": [
    "# Geometry analysis project\n",
    "\n",
    "# get the file path for water.xyz\n",
    "water_file = os.path.join('data', 'water.xyz')\n",
    "\n",
    "# read data from the file\n",
    "water_data = numpy.genfromtxt(fname=water_file, dtype='unicode', skip_header=2)\n",
    "\n",
    "symbols = water_data[:, 0]\n",
    "coord = water_data[:,1:].astype(numpy.float)"
   ]
  },
  {
   "cell_type": "code",
   "execution_count": null,
   "metadata": {},
   "outputs": [],
   "source": [
    "print(atoms, coords)"
   ]
  },
  {
   "cell_type": "code",
   "execution_count": null,
   "metadata": {},
   "outputs": [],
   "source": [
    "for numA, atomA in enumerate(coord):\n",
    "    for numB, atomB in enumerate(coord):\n",
    "        bond_length_AB = numpy.sqrt((atomA[0]-atomB[0])**2+(atomA[1]- atomB[1])**2+(atomA[2]-atomB[2])**2)\n",
    "        \n",
    "        print(F'{symbols[numA]} to {symbols[numB]} : {bond_length_AB:.3f}')"
   ]
  },
  {
   "cell_type": "markdown",
   "metadata": {},
   "source": [
    "## Plotting\n",
    "\n",
    "This lesson gives an overview of plotting"
   ]
  },
  {
   "cell_type": "code",
   "execution_count": null,
   "metadata": {},
   "outputs": [],
   "source": [
    "import matplotlib.pyplot as plt\n",
    "import numpy\n",
    "import os\n",
    "\n",
    "%matplotlib inline"
   ]
  },
  {
   "cell_type": "code",
   "execution_count": null,
   "metadata": {},
   "outputs": [],
   "source": [
    "distance_file = os.path.join('data', 'distance_data_headers.csv')\n",
    "distances = numpy.genfromtxt(fname=distance_file, delimiter=',', dtype='unicode')\n",
    "headers = distances[0]\n",
    "data = distances[1:]\n",
    "data = data.astype(numpy.float)\n",
    "print(data)"
   ]
  },
  {
   "cell_type": "code",
   "execution_count": null,
   "metadata": {},
   "outputs": [],
   "source": [
    "plt.figure()\n",
    "plt.plot(data[:,1])"
   ]
  },
  {
   "cell_type": "code",
   "execution_count": null,
   "metadata": {},
   "outputs": [],
   "source": [
    "sample = headers[1]\n",
    "print(sample)"
   ]
  },
  {
   "cell_type": "code",
   "execution_count": null,
   "metadata": {},
   "outputs": [],
   "source": [
    "plt.figure()\n",
    "plt.xlabel('Simulation Frame')\n",
    "plt.ylabel('Distance (angstrom)')\n",
    "fig_1 = plt.plot(data[:,0], data[:,1], label=sample)\n",
    "plt.legend()\n",
    "plt.savefig(F'{sample}.png')"
   ]
  },
  {
   "cell_type": "code",
   "execution_count": null,
   "metadata": {},
   "outputs": [],
   "source": [
    "plt.figure()\n",
    "plt.xlabel('Simulation Frame')\n",
    "plt.ylabel('Distance (angstrom)')\n",
    "plt.plot(data[:,1], label=headers[1])\n",
    "plt.plot(data[:,2], label=headers[2])\n",
    "plt.legend()\n",
    "plt.savefig('two_samples.png')"
   ]
  },
  {
   "cell_type": "code",
   "execution_count": null,
   "metadata": {},
   "outputs": [],
   "source": [
    "for col_number in range(1, len(headers)):\n",
    "    fig = plt.plot(data[:,0], data[:,col_number], label=headers[col_number])\n",
    "    plt.legend()\n",
    "    \n",
    "plt.xlabel('Simulation Frame')\n",
    "plt.ylabel('Distance (angstrom)')\n",
    "plt.savefig('all_samples.png')"
   ]
  },
  {
   "cell_type": "code",
   "execution_count": null,
   "metadata": {},
   "outputs": [],
   "source": [
    "# Make a plot for each sample\n",
    "for col_number in range(1, len(headers)):\n",
    "    plt.figure()\n",
    "    fig = plt.plot(data[:,0], data[:,col_number], label=headers[col_number])\n",
    "    plt.legend()\n",
    "    plt.xlabel('Simulation Frame')\n",
    "    plt.ylabel('Distance (angstrom)')\n",
    "    plt.savefig(F'{headers[col_number]}.png')"
   ]
  },
  {
   "cell_type": "markdown",
   "metadata": {},
   "source": [
    "## Writing functions\n",
    "\n",
    "This lesson covers writing functions"
   ]
  },
  {
   "cell_type": "code",
   "execution_count": 6,
   "metadata": {},
   "outputs": [],
   "source": [
    "import numpy"
   ]
  },
  {
   "cell_type": "code",
   "execution_count": 1,
   "metadata": {},
   "outputs": [],
   "source": [
    "# writing a simple function\n",
    "\n",
    "def add_2(input_number):\n",
    "    \"\"\"Add 2 to the input number\"\"\"\n",
    "    \n",
    "    return_number = input_number + 2\n",
    "    \n",
    "    return return_number"
   ]
  },
  {
   "cell_type": "code",
   "execution_count": 2,
   "metadata": {},
   "outputs": [
    {
     "data": {
      "text/plain": [
       "8"
      ]
     },
     "execution_count": 2,
     "metadata": {},
     "output_type": "execute_result"
    }
   ],
   "source": [
    "first_number = 6\n",
    "\n",
    "add_2(first_number)"
   ]
  },
  {
   "cell_type": "code",
   "execution_count": 7,
   "metadata": {},
   "outputs": [],
   "source": [
    "# writing a distance function\n",
    "\n",
    "def calculate_distance(atom1, atom2):\n",
    "    \"\"\"Calculate the distance between two atoms in 3D\"\"\"\n",
    "    distance = numpy.sqrt((atom1[0] - atom2[0])**2 + (atom1[1] - atom2[1]) **2\n",
    "                          + (atom1[2] - atom2[2])**2 )\n",
    "    return distance"
   ]
  },
  {
   "cell_type": "code",
   "execution_count": 11,
   "metadata": {},
   "outputs": [],
   "source": [
    "atom1_coordinates = [0, 0 , 0]\n",
    "atom2_coordinates = [0, 0, 2]"
   ]
  },
  {
   "cell_type": "code",
   "execution_count": 12,
   "metadata": {},
   "outputs": [],
   "source": [
    "atom_distance = calculate_distance(atom1_coordinates, atom2_coordinates)"
   ]
  },
  {
   "cell_type": "code",
   "execution_count": 13,
   "metadata": {},
   "outputs": [
    {
     "name": "stdout",
     "output_type": "stream",
     "text": [
      "2.0\n"
     ]
    }
   ],
   "source": [
    "print(atom_distance)"
   ]
  },
  {
   "cell_type": "code",
   "execution_count": 14,
   "metadata": {},
   "outputs": [],
   "source": [
    "def bond_check(atom_distance):\n",
    "    \"\"\"Check if a distance is a bond - return True if bond\"\"\"\n",
    "    if atom_distance > 0 and atom_distance <= 1.5:\n",
    "        return True\n",
    "    else:\n",
    "        return False"
   ]
  },
  {
   "cell_type": "code",
   "execution_count": 15,
   "metadata": {},
   "outputs": [
    {
     "data": {
      "text/plain": [
       "False"
      ]
     },
     "execution_count": 15,
     "metadata": {},
     "output_type": "execute_result"
    }
   ],
   "source": [
    "bond_check(atom_distance)"
   ]
  },
  {
   "cell_type": "code",
   "execution_count": 16,
   "metadata": {},
   "outputs": [],
   "source": [
    "def bond_check(atom_distance, minimum_length, maximum_length):\n",
    "    \"\"\"\n",
    "    Check if distance is bond.\n",
    "    \n",
    "    Distance is a bond if it is between the minimum and maximum length.\n",
    "    \n",
    "    Parameters\n",
    "    ----------\n",
    "    atom_distance: float\n",
    "        The distance between two atoms\n",
    "    minimum_length: float\n",
    "        The minimum length for a bond\n",
    "    maximum_length: float\n",
    "        The maximum length for a bond\n",
    "    \n",
    "    Returns\n",
    "    -------\n",
    "    bool\n",
    "        True if bond, False otherwise\n",
    "    \n",
    "    \"\"\"\n",
    "    \n",
    "    if atom_distance > minimum_length and atom_distance <= maximum_length:\n",
    "        return True\n",
    "    else:\n",
    "        return False\n",
    "    "
   ]
  },
  {
   "cell_type": "code",
   "execution_count": 18,
   "metadata": {},
   "outputs": [
    {
     "data": {
      "text/plain": [
       "False"
      ]
     },
     "execution_count": 18,
     "metadata": {},
     "output_type": "execute_result"
    }
   ],
   "source": [
    "bond_check(atom_distance, minimum_length=0, maximum_length=1.5)"
   ]
  },
  {
   "cell_type": "code",
   "execution_count": 19,
   "metadata": {},
   "outputs": [
    {
     "name": "stdout",
     "output_type": "stream",
     "text": [
      "Help on function bond_check in module __main__:\n",
      "\n",
      "bond_check(atom_distance, minimum_length, maximum_length)\n",
      "    Check if distance is bond.\n",
      "    \n",
      "    Distance is a bond if it is between the minimum and maximum length.\n",
      "    \n",
      "    Parameters\n",
      "    ----------\n",
      "    atom_distance: float\n",
      "        The distance between two atoms\n",
      "    minimum_length: float\n",
      "        The minimum length for a bond\n",
      "    maximum_length: float\n",
      "        The maximum length for a bond\n",
      "    \n",
      "    Returns\n",
      "    -------\n",
      "    bool\n",
      "        True if bond, False otherwise\n",
      "\n"
     ]
    }
   ],
   "source": [
    "help(bond_check)"
   ]
  },
  {
   "cell_type": "code",
   "execution_count": 20,
   "metadata": {},
   "outputs": [],
   "source": [
    "# We can give default values for arguments.\n",
    "\n",
    "def bond_check(atom_distance, minimum_length=0, maximum_length=1.5):\n",
    "    \"\"\"\n",
    "    Check if distance is bond.\n",
    "    \n",
    "    Distance is a bond if it is between the minimum and maximum length.\n",
    "    \n",
    "    Parameters\n",
    "    ----------\n",
    "    atom_distance: float\n",
    "        The distance between two atoms\n",
    "    minimum_length: float\n",
    "        The minimum length for a bond\n",
    "    maximum_length: float\n",
    "        The maximum length for a bond\n",
    "    \n",
    "    Returns\n",
    "    -------\n",
    "    bool\n",
    "        True if bond, False otherwise\n",
    "    \n",
    "    \"\"\"\n",
    "    \n",
    "    if atom_distance > minimum_length and atom_distance <= maximum_length:\n",
    "        return True\n",
    "    else:\n",
    "        return False\n",
    "    "
   ]
  },
  {
   "cell_type": "code",
   "execution_count": 21,
   "metadata": {},
   "outputs": [
    {
     "data": {
      "text/plain": [
       "False"
      ]
     },
     "execution_count": 21,
     "metadata": {},
     "output_type": "execute_result"
    }
   ],
   "source": [
    "bond_check(atom_distance)"
   ]
  },
  {
   "cell_type": "code",
   "execution_count": 27,
   "metadata": {},
   "outputs": [],
   "source": [
    "def read_xyz(filename):\n",
    "    \"\"\"\n",
    "    Read an xyz file\n",
    "    \n",
    "    Parameters\n",
    "    ----------\n",
    "    filename: str\n",
    "        The file path to the xyz fiole\n",
    "        \n",
    "    Returns\n",
    "    -------\n",
    "    symbols: list\n",
    "        List of atom symbols\n",
    "    \n",
    "    coords: list\n",
    "        Atom coordinates\n",
    "    \"\"\"\n",
    "    \n",
    "    xyz_file = numpy.genfromtxt(fname=filename, skip_header=2, dtype='unicode')\n",
    "    symbols = xyz_file[:,0]\n",
    "    coord = xyz_file[:,1:]\n",
    "    coord = coord.astype(numpy.float)\n",
    "    \n",
    "    return symbols, coord\n",
    "    "
   ]
  },
  {
   "cell_type": "code",
   "execution_count": 30,
   "metadata": {},
   "outputs": [
    {
     "name": "stdout",
     "output_type": "stream",
     "text": [
      "O to H1 : 0.969\n",
      "O to H2 : 0.969\n"
     ]
    }
   ],
   "source": [
    "import numpy\n",
    "import os\n",
    "\n",
    "water_file = os.path.join('data', 'water.xyz')\n",
    "\n",
    "symbols, coord = read_xyz(water_file)\n",
    "\n",
    "for numA, atomA in enumerate(coord):\n",
    "    for numB, atomB in enumerate(coord):\n",
    "        if numB > numA:\n",
    "            bond_length_AB = calculate_distance(atomA, atomB)\n",
    "            \n",
    "            if bond_check(bond_length_AB):\n",
    "                print(F'{symbols[numA]} to {symbols[numB]} : {bond_length_AB:.3f}')"
   ]
  },
  {
   "cell_type": "code",
   "execution_count": null,
   "metadata": {},
   "outputs": [],
   "source": []
  }
 ],
 "metadata": {
  "kernelspec": {
   "display_name": "Python 3",
   "language": "python",
   "name": "python3"
  },
  "language_info": {
   "codemirror_mode": {
    "name": "ipython",
    "version": 3
   },
   "file_extension": ".py",
   "mimetype": "text/x-python",
   "name": "python",
   "nbconvert_exporter": "python",
   "pygments_lexer": "ipython3",
   "version": "3.6.4"
  }
 },
 "nbformat": 4,
 "nbformat_minor": 2
}
